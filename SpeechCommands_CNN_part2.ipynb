{
 "cells": [
  {
   "cell_type": "code",
   "execution_count": 1,
   "metadata": {},
   "outputs": [
    {
     "name": "stderr",
     "output_type": "stream",
     "text": [
      "/home/ragh/anaconda3/lib/python3.7/site-packages/torchaudio/backend/utils.py:54: UserWarning: \"sox\" backend is being deprecated. The default backend will be changed to \"sox_io\" backend in 0.8.0 and \"sox\" backend will be removed in 0.9.0. Please migrate to \"sox_io\" backend. Please refer to https://github.com/pytorch/audio/issues/903 for the detail.\n",
      "  '\"sox\" backend is being deprecated. '\n"
     ]
    }
   ],
   "source": [
    "# CUSTOMARY IMPORTS\n",
    "import torch\n",
    "import matplotlib.pyplot as plt\n",
    "import numpy as np\n",
    "from jumpml import SpeechCommandsDataset as scd\n",
    "from jumpml.models import SpeechCommandsModel as scm\n",
    "from jumpml.train import TrainModel\n",
    "%matplotlib inline\n",
    "\n",
    "random_seed = 1        \n",
    "torch.manual_seed(random_seed)\n",
    "device = torch.device(\"cuda:0\" if torch.cuda.is_available() else \"cpu\")"
   ]
  },
  {
   "cell_type": "code",
   "execution_count": 3,
   "metadata": {},
   "outputs": [
    {
     "name": "stdout",
     "output_type": "stream",
     "text": [
      "Found existing background directory. Removing files in that directory.\n",
      "Initialize/download SpeechCommandsDataset....\n",
      "\n",
      "SpeechCommands Dataset Size: 105829\n",
      "\n",
      "Generate 1s background files:\n",
      "\n",
      "Background files generated: 282\n",
      "\n",
      "Extracting training dataset files...\n",
      "Train dataset extracted: 84843 files \n",
      "\n",
      "Extracting test and val dataset files...\n",
      "Validation dataset extracted: 9981 files\n",
      "Test dataset extracted: 11005 files\n"
     ]
    }
   ],
   "source": [
    "# Setup train, val and test dataloaders\n",
    "sc_data = scd.SpeechCommandsData(train_bs=64, test_bs=256, val_bs=256, n_mels=64)"
   ]
  },
  {
   "cell_type": "code",
   "execution_count": 9,
   "metadata": {},
   "outputs": [],
   "source": [
    "# Setup Model, Loss, Optimizer for Training\n",
    "TM = TrainModel(scm(input_size=(1,64,101)), sc_data.train_loader, sc_data.val_loader, device)"
   ]
  },
  {
   "cell_type": "code",
   "execution_count": 10,
   "metadata": {},
   "outputs": [
    {
     "name": "stdout",
     "output_type": "stream",
     "text": [
      "\n",
      "Avg. loss: 0.0127, Accuracy: 3.357649564743042 %  Elapsed Time=9.575172185897827\n",
      "\n",
      "Epoch-1 lr: 0.1\n",
      "Train  0/85069 Loss:2.4313161373138428\n",
      "\n",
      "Train  6400/85069 Loss:1.389864444732666\n",
      "\n",
      "Train  12800/85069 Loss:1.51261305809021\n",
      "\n",
      "Train  19200/85069 Loss:0.9516910314559937\n",
      "\n",
      "Train  25600/85069 Loss:1.0094795227050781\n",
      "\n",
      "Train  32000/85069 Loss:0.5848895907402039\n",
      "\n",
      "Train  38400/85069 Loss:0.9878174066543579\n",
      "\n",
      "Train  44800/85069 Loss:0.8500820398330688\n",
      "\n",
      "Train  51200/85069 Loss:0.9741275310516357\n",
      "\n",
      "Train  57600/85069 Loss:0.6726731061935425\n",
      "\n",
      "Train  64000/85069 Loss:0.7792609333992004\n",
      "\n",
      "Train  70400/85069 Loss:0.7317532896995544\n",
      "\n",
      "Train  76800/85069 Loss:0.6565160155296326\n",
      "\n",
      "Train  83200/85069 Loss:0.7193157076835632\n",
      "\n",
      "\n",
      "Avg. loss: 0.0019, Accuracy: 85.22034454345703 %  Elapsed Time=9.53643536567688\n",
      "\n",
      "Epoch-2 lr: 0.1\n",
      "Train  0/85069 Loss:0.6071050763130188\n",
      "\n",
      "Train  6400/85069 Loss:0.6477561593055725\n",
      "\n",
      "Train  12800/85069 Loss:0.5033887028694153\n",
      "\n",
      "Train  19200/85069 Loss:0.6913131475448608\n",
      "\n",
      "Train  25600/85069 Loss:0.4069250822067261\n",
      "\n",
      "Train  32000/85069 Loss:0.6808071732521057\n",
      "\n",
      "Train  38400/85069 Loss:0.4023626744747162\n",
      "\n",
      "Train  44800/85069 Loss:0.4821442663669586\n",
      "\n",
      "Train  51200/85069 Loss:0.659382164478302\n",
      "\n",
      "Train  57600/85069 Loss:0.4430047869682312\n",
      "\n",
      "Train  64000/85069 Loss:0.5250983238220215\n",
      "\n",
      "Train  70400/85069 Loss:0.4573305547237396\n",
      "\n",
      "Train  76800/85069 Loss:0.5182477831840515\n",
      "\n",
      "Train  83200/85069 Loss:0.4941706657409668\n",
      "\n",
      "\n",
      "Avg. loss: 0.0014, Accuracy: 88.63795471191406 %  Elapsed Time=10.28678560256958\n",
      "\n",
      "Epoch-3 lr: 0.1\n",
      "Train  0/85069 Loss:0.3839484751224518\n",
      "\n",
      "Train  6400/85069 Loss:0.3797329366207123\n",
      "\n",
      "Train  12800/85069 Loss:0.5217545032501221\n",
      "\n",
      "Train  19200/85069 Loss:0.7771769165992737\n",
      "\n",
      "Train  25600/85069 Loss:0.7261846661567688\n",
      "\n",
      "Train  32000/85069 Loss:0.3821347951889038\n",
      "\n",
      "Train  38400/85069 Loss:0.6801532506942749\n",
      "\n",
      "Train  44800/85069 Loss:0.3032967150211334\n",
      "\n",
      "Train  51200/85069 Loss:0.7622411251068115\n",
      "\n",
      "Train  57600/85069 Loss:0.280316561460495\n",
      "\n",
      "Train  64000/85069 Loss:0.376615971326828\n",
      "\n",
      "Train  70400/85069 Loss:0.4278806149959564\n",
      "\n",
      "Train  76800/85069 Loss:0.5290945768356323\n",
      "\n",
      "Train  83200/85069 Loss:0.6752465963363647\n",
      "\n",
      "\n",
      "Avg. loss: 0.0016, Accuracy: 87.1290054321289 %  Elapsed Time=9.582094430923462\n",
      "\n"
     ]
    }
   ],
   "source": [
    "TM.run_training_loop(n_epochs =3)"
   ]
  },
  {
   "cell_type": "code",
   "execution_count": 15,
   "metadata": {},
   "outputs": [
    {
     "data": {
      "text/plain": [
       "[0.012733597420450094,\n",
       " 0.001868018626785545,\n",
       " 0.0013883128171082893,\n",
       " 0.0015883108509209911]"
      ]
     },
     "execution_count": 15,
     "metadata": {},
     "output_type": "execute_result"
    }
   ],
   "source": [
    "TM.eval.losses"
   ]
  },
  {
   "cell_type": "code",
   "execution_count": 16,
   "metadata": {},
   "outputs": [
    {
     "data": {
      "text/plain": [
       "[array(3.3576496, dtype=float32),\n",
       " array(85.220345, dtype=float32),\n",
       " array(88.637955, dtype=float32),\n",
       " array(87.129005, dtype=float32)]"
      ]
     },
     "execution_count": 16,
     "metadata": {},
     "output_type": "execute_result"
    }
   ],
   "source": [
    "TM.val_accuracy"
   ]
  },
  {
   "cell_type": "code",
   "execution_count": 17,
   "metadata": {},
   "outputs": [
    {
     "data": {
      "image/png": "[encoded data removed]",
      "text/plain": [
       "<Figure size 600x480 with 1 Axes>"
      ]
     },
     "metadata": {
      "needs_background": "light"
     },
     "output_type": "display_data"
    }
   ],
   "source": [
    "TM.plot_loss()"
   ]
  },
  {
   "cell_type": "code",
   "execution_count": 14,
   "metadata": {},
   "outputs": [
    {
     "data": {
      "text/plain": [
       "[<matplotlib.lines.Line2D at 0x7f7684f04150>]"
      ]
     },
     "execution_count": 14,
     "metadata": {},
     "output_type": "execute_result"
    },
    {
     "data": {
      "image/png": "[encoded data removed]",
      "text/plain": [
       "<Figure size 432x288 with 1 Axes>"
      ]
     },
     "metadata": {
      "needs_background": "light"
     },
     "output_type": "display_data"
    }
   ],
   "source": [
    "plt.plot(TM.eval.losses)"
   ]
  },
  {
   "cell_type": "code",
   "execution_count": 12,
   "metadata": {},
   "outputs": [
    {
     "data": {
      "text/plain": [
       "[<matplotlib.lines.Line2D at 0x7f21806edf50>]"
      ]
     },
     "execution_count": 12,
     "metadata": {},
     "output_type": "execute_result"
    },
    {
     "data": {
      "image/png": "[encoded data removed]",
      "text/plain": [
       "<Figure size 432x288 with 1 Axes>"
      ]
     },
     "metadata": {
      "needs_background": "light"
     },
     "output_type": "display_data"
    }
   ],
   "source": [
    "plt.plot(TM.val_accuracy)"
   ]
  },
  {
   "cell_type": "code",
   "execution_count": null,
   "metadata": {},
   "outputs": [],
   "source": []
  }
 ],
 "metadata": {
  "kernelspec": {
   "display_name": "Python 3",
   "language": "python",
   "name": "python3"
  },
  "language_info": {
   "codemirror_mode": {
    "name": "ipython",
    "version": 3
   },
   "file_extension": ".py",
   "mimetype": "text/x-python",
   "name": "python",
   "nbconvert_exporter": "python",
   "pygments_lexer": "ipython3",
   "version": "3.7.6"
  }
 },
 "nbformat": 4,
 "nbformat_minor": 4
}
