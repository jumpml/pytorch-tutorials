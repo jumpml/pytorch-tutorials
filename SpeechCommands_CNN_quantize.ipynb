{
 "cells": [
  {
   "cell_type": "markdown",
   "metadata": {},
   "source": [
    "# Speech commands model predictions on real data and model quantization (Tutorial)\n",
    "\n",
    "In this post, we want to see if the speech commands recognition model we trained in the [previous post](https://jumpml.com/tutorial-pytorch-speechcommands/output/) actually works on real recorded data. \n",
    "\n",
    "In addition we will learn how to quantize weights in PyTorch. This will help make the model smaller and potentially faster for prediction. Performance may or may not get worse. \n",
    "\n",
    "This notebook is available on github at this [link](https://github.com/jumpml/pytorch-tutorials/blob/master/SpeechCommands_CNN_quantize.ipynb). "
   ]
  },
  {
   "cell_type": "code",
   "execution_count": 1,
   "metadata": {},
   "outputs": [
    {
     "name": "stdout",
     "output_type": "stream",
     "text": [
      "Using cpu\n"
     ]
    }
   ],
   "source": [
    "# CUSTOMARY IMPORTS\n",
    "import numpy as np\n",
    "import torch\n",
    "import torch.nn as nn\n",
    "import torch.nn.functional as F\n",
    "import torch.optim as optim\n",
    "import torchaudio\n",
    "import os\n",
    "\n",
    "from jumpml import models\n",
    "from jumpml import eval\n",
    "from jumpml import SpeechCommandsDataset as scd\n",
    "from jumpml import utils\n",
    "\n",
    "import itertools\n",
    "from IPython.display import Audio\n",
    "\n",
    "import matplotlib.pyplot as plt\n",
    "%matplotlib inline\n",
    "\n",
    "random_seed = 1        \n",
    "torch.manual_seed(random_seed)\n",
    "device = torch.device(\"cuda:0\" if torch.cuda.is_available() else \"cpu\")\n",
    "print('Using', device)"
   ]
  },
  {
   "cell_type": "code",
   "execution_count": 2,
   "metadata": {},
   "outputs": [
    {
     "name": "stdout",
     "output_type": "stream",
     "text": [
      "1.6.0\n"
     ]
    }
   ],
   "source": [
    "# Quantization needs PyTorch version 1.6.0, so please update if needed.\n",
    "print(torch.__version__)"
   ]
  },
  {
   "cell_type": "code",
   "execution_count": 3,
   "metadata": {},
   "outputs": [
    {
     "name": "stdout",
     "output_type": "stream",
     "text": [
      "Found existing background directory. Removing files in that directory.\n",
      "Initialize/download SpeechCommandsDataset....\n",
      "\n",
      "SpeechCommands Dataset Size: 105829\n",
      "\n",
      "Generate 1s background files:\n",
      "\n",
      "Background files generated: 280\n",
      "\n",
      "Extracting training dataset files...\n",
      "Train dataset extracted: 84843 files \n",
      "\n",
      "Extracting test and val dataset files...\n",
      "Validation dataset extracted: 9981 files\n",
      "Test dataset extracted: 11005 files\n"
     ]
    }
   ],
   "source": [
    "batch_size_train = 64\n",
    "# Setup train, val and test dataloaders\n",
    "sc_data = scd.SpeechCommandsData(train_bs=batch_size_train, test_bs=256, val_bs=256, n_mels=64)"
   ]
  },
  {
   "cell_type": "markdown",
   "metadata": {},
   "source": [
    "## Model Loading\n",
    "In a previous post, we trained a simple CNN model to recognize speech commands. We will load the same exact model with the same input size, kernel sizes, layers, etc. There are two steps in model loading  \n",
    "1. Model instantiation: this is the skeleton with space for the parameters\n",
    "2. Parameter loading from a previously saved .pt file \n"
   ]
  },
  {
   "cell_type": "code",
   "execution_count": 4,
   "metadata": {},
   "outputs": [
    {
     "data": {
      "text/plain": [
       "SpeechCommandsModel(\n",
       "  (conv1): Conv2d(1, 32, kernel_size=(8, 20), stride=(1, 1))\n",
       "  (bn1): BatchNorm2d(32, eps=1e-05, momentum=0.1, affine=True, track_running_stats=True)\n",
       "  (conv2): Conv2d(32, 8, kernel_size=(4, 10), stride=(1, 1))\n",
       "  (bn2): BatchNorm2d(8, eps=1e-05, momentum=0.1, affine=True, track_running_stats=True)\n",
       "  (fc1): Linear(in_features=1536, out_features=128, bias=True)\n",
       "  (bn3): BatchNorm1d(128, eps=1e-05, momentum=0.1, affine=True, track_running_stats=True)\n",
       "  (fc2): Linear(in_features=128, out_features=11, bias=True)\n",
       ")"
      ]
     },
     "execution_count": 4,
     "metadata": {},
     "output_type": "execute_result"
    }
   ],
   "source": [
    "PATH = \"./models/speech_commands_model.pt\"\n",
    "nnModel = models.SpeechCommandsModel().to(device)       # Instantiate our model and move model to GPU if available\n",
    "nnModel.load_state_dict(torch.load(PATH, map_location=torch.device(device)))\n",
    "nnModel.eval()"
   ]
  },
  {
   "cell_type": "markdown",
   "metadata": {},
   "source": [
    "## Model Quantization\n",
    "As of PyTorch 1.6.0, there are three ways to quantize a model \n",
    "1. Dynamic Quantization: quantized weights applied post-training \n",
    "2. Static Quantization: fuses layers like BatchNorm and Relu, uses data for calibration applied post-training\n",
    "3. Quantization-aware training: static quantization during training\n",
    "\n",
    "We will try out the easiest one, dynamic quantization, which I am just going to call weight quantization. Basically we need to tell the quantizer which layers we want to quantize, for e.g. nn.Linear usually has a lot of parameters and is a prime candidate for weight quantization and what the target data type is. Since parameters are float32, the two options available are float16 or qint8. We will convert Conv2d and Linear layers to 8-bit parameters."
   ]
  },
  {
   "cell_type": "code",
   "execution_count": 5,
   "metadata": {},
   "outputs": [],
   "source": [
    "quantized_model = torch.quantization.quantize_dynamic(\n",
    "    nnModel, {nn.Conv2d, nn.Linear}, dtype=torch.qint8)"
   ]
  },
  {
   "cell_type": "code",
   "execution_count": 6,
   "metadata": {},
   "outputs": [
    {
     "name": "stdout",
     "output_type": "stream",
     "text": [
      "Size (MB): 0.864021\n",
      "Size (MB): 0.271357\n"
     ]
    }
   ],
   "source": [
    "utils.print_size_of_model(nnModel)\n",
    "utils.print_size_of_model(quantized_model)"
   ]
  },
  {
   "cell_type": "code",
   "execution_count": 7,
   "metadata": {},
   "outputs": [
    {
     "name": "stdout",
     "output_type": "stream",
     "text": [
      "\n",
      "Avg. loss: 0.0007, Accuracy: 94.42631530761719 %  Elapsed Time=126.23865580558777\n",
      "\n"
     ]
    },
    {
     "data": {
      "text/plain": [
       "(tensor(94.4263),\n",
       " array([[ 393,    0,    0,    2,    6,    0,    0,    0,    0,    1,    4],\n",
       "        [   0,  357,    0,   17,    0,    0,    0,    0,    0,   16,   23],\n",
       "        [   0,    3,  390,    0,    1,    0,    1,   14,    4,    2,   15],\n",
       "        [   0,    3,    0,  336,    0,    0,    0,    0,    0,    5,   11],\n",
       "        [   3,    0,    0,    1,  369,    1,    0,    0,    0,    1,   22],\n",
       "        [   0,    0,    0,    0,    2,  360,    0,    0,    0,    0,   16],\n",
       "        [   0,    0,    2,    0,    0,    0,  337,    9,    0,    0,   24],\n",
       "        [   0,    0,    6,    0,    0,    0,   14,  353,    1,    1,   16],\n",
       "        [   0,    0,    3,    1,    0,    0,    0,    1,  393,    1,    8],\n",
       "        [   0,    7,    0,   10,    0,    0,    2,    3,    0,  329,   19],\n",
       "        [  23,   35,   24,   39,   34,   35,   42,   22,   13,   46, 6802]]))"
      ]
     },
     "execution_count": 7,
     "metadata": {},
     "output_type": "execute_result"
    }
   ],
   "source": [
    "lossFn = F.nll_loss  #When we combine nll_loss and log_softmax we get a cross entropy loss\n",
    "evalSC = eval.evalModel(nnModel, lossFn, device)\n",
    "evalSCq = eval.evalModel(quantized_model, lossFn, device)\n",
    "evalSC.evalClass(sc_data.test_loader)"
   ]
  },
  {
   "cell_type": "code",
   "execution_count": 8,
   "metadata": {},
   "outputs": [
    {
     "name": "stdout",
     "output_type": "stream",
     "text": [
      "\n",
      "Avg. loss: 0.0007, Accuracy: 94.39006805419922 %  Elapsed Time=36.33142900466919\n",
      "\n"
     ]
    },
    {
     "data": {
      "text/plain": [
       "(tensor(94.3901),\n",
       " array([[ 393,    0,    0,    2,    5,    0,    0,    0,    0,    1,    4],\n",
       "        [   0,  357,    0,   16,    0,    0,    0,    0,    0,   16,   23],\n",
       "        [   0,    3,  390,    0,    1,    0,    1,   16,    4,    2,   15],\n",
       "        [   0,    3,    0,  336,    0,    0,    0,    0,    0,    5,   10],\n",
       "        [   3,    0,    0,    1,  369,    1,    0,    0,    0,    1,   22],\n",
       "        [   0,    0,    0,    0,    2,  359,    0,    0,    0,    0,   17],\n",
       "        [   0,    0,    2,    0,    0,    0,  335,    9,    0,    0,   24],\n",
       "        [   0,    0,    6,    0,    0,    0,   15,  350,    1,    1,   17],\n",
       "        [   0,    0,    3,    1,    0,    0,    0,    1,  394,    1,    7],\n",
       "        [   0,    7,    0,   11,    0,    0,    2,    3,    0,  330,   19],\n",
       "        [  23,   35,   24,   39,   35,   36,   43,   23,   12,   45, 6802]]))"
      ]
     },
     "execution_count": 8,
     "metadata": {},
     "output_type": "execute_result"
    }
   ],
   "source": [
    "evalSCq.evalClass(sc_data.test_loader)"
   ]
  },
  {
   "cell_type": "markdown",
   "metadata": {},
   "source": [
    "## To Quantize or Not to Quantize?\n",
    "\n",
    "Here is the deal\n",
    "1. Size went down from 0.86 MB to 0.27 MB\n",
    "2. Accuracy is slightly worse, but pretty much the same: 94.42% to 94.39%\n",
    "3. Processing time of the test set evaluation went from 2 minutes to half a minute! \n",
    "\n",
    "Usually there are no free lunches, but what we have here is a free lunch, a proverbial no-brainer. "
   ]
  },
  {
   "cell_type": "markdown",
   "metadata": {},
   "source": [
    "## Recording real-world data\n",
    "I used Audacity, a free audio editing tool, to record me saying twenty commands one after the other. After that, I wrote up an Energy-based Voice Activity Detector (VAD) which basically finds the words in the long recording. At the end, we have a set of twenty files corresponding to the twenty commands I read. The filename contains the true command label.\n",
    "\n",
    "The next steps are to setup a feature preprocessing pipeline so we can feed the features to the model. After some copy and paste of the dataset code, we create a function (get_file_features) which takes a filename and returns the features X (101 frames of 64 log Mel features) and label y. This function also allows to pad silence to the right of the command or pad on both left and right of the command. "
   ]
  },
  {
   "cell_type": "code",
   "execution_count": 9,
   "metadata": {},
   "outputs": [],
   "source": [
    "testFiles = utils.get_filenames('files',searchstr='SCRIC20*')"
   ]
  },
  {
   "cell_type": "code",
   "execution_count": 10,
   "metadata": {
    "scrolled": true
   },
   "outputs": [
    {
     "name": "stdout",
     "output_type": "stream",
     "text": [
      "\u001b[1;30;47m Ground Truth = 4 \tPrediction = 4   \tConfidence=69.92%\n",
      "\u001b[1;30;47m Ground Truth = 10 \tPrediction = 10   \tConfidence=91.55%\n",
      "\u001b[1;30;47m Ground Truth = 8 \tPrediction = 8   \tConfidence=99.97%\n",
      "\u001b[1;30;47m Ground Truth = 10 \tPrediction = 10   \tConfidence=77.36%\n",
      "\u001b[1;30;47m Ground Truth = 3 \tPrediction = 3   \tConfidence=56.72%\n",
      "\u001b[1;30;47m Ground Truth = 10 \tPrediction = 10   \tConfidence=98.91%\n",
      "\u001b[1;30;47m Ground Truth = 10 \tPrediction = 10   \tConfidence=98.08%\n",
      "\u001b[1;30;47m Ground Truth = 1 \tPrediction = 1   \tConfidence=95.63%\n",
      "\u001b[1;30;47m Ground Truth = 7 \tPrediction = 7   \tConfidence=94.43%\n",
      "\u001b[1;30;47m Ground Truth = 9 \tPrediction = 9   \tConfidence=99.46%\n",
      "\u001b[1;30;47m Ground Truth = 10 \tPrediction = 10   \tConfidence=84.82%\n",
      "\u001b[1;30;47m Ground Truth = 0 \tPrediction = 0   \tConfidence=99.06%\n",
      "\u001b[1;30;47m Ground Truth = 10 \tPrediction = 10   \tConfidence=75.87%\n",
      "\u001b[1;30;47m Ground Truth = 10 \tPrediction = 10   \tConfidence=95.41%\n",
      "\u001b[1;30;47m Ground Truth = 5 \tPrediction = 5   \tConfidence=89.63%\n",
      "\u001b[1;30;47m Ground Truth = 6 \tPrediction = 6   \tConfidence=84.86%\n",
      "\u001b[1;30;47m Ground Truth = 10 \tPrediction = 10   \tConfidence=98.45%\n",
      "\u001b[1;30;47m Ground Truth = 10 \tPrediction = 10   \tConfidence=96.55%\n",
      "\u001b[1;30;41m Ground Truth = 2 \tPrediction = 10   \tConfidence=44.08%\n",
      "\u001b[1;30;47m Ground Truth = 10 \tPrediction = 10   \tConfidence=69.66%\n"
     ]
    }
   ],
   "source": [
    "for file in testFiles:\n",
    "    (X,y) = scd.get_file_features(file, padLR=False)\n",
    "    (pred, conf)=evalSCq.predictClass(X)\n",
    "    if pred == y:\n",
    "        print(f'\\033[1;30;47m Ground Truth = {y} \\tPrediction = {pred}   \\tConfidence={conf * 100 :.2f}%')\n",
    "    else:\n",
    "        print(f'\\033[1;30;41m Ground Truth = {y} \\tPrediction = {pred}   \\tConfidence={conf * 100 :.2f}%')\n"
   ]
  },
  {
   "cell_type": "code",
   "execution_count": 20,
   "metadata": {},
   "outputs": [
    {
     "data": {
      "image/png": "[encoded data removed]",
      "text/plain": [
       "<Figure size 640x960 with 1 Axes>"
      ]
     },
     "metadata": {
      "needs_background": "light"
     },
     "output_type": "display_data"
    }
   ],
   "source": [
    "# VISUALIZE SOME EXAMPLES\n",
    "def visualize_file_prediction(file, evalSC, padLR=False):\n",
    "    (X,y) = scd.get_file_features(file,padLR=padLR)\n",
    "    (pred, conf)=evalSC.predictClass(X)\n",
    "    fig=plt.figure(figsize=(8, 12), dpi=80)\n",
    "    plt.tight_layout()\n",
    "    plt.imshow(torch.squeeze(X), cmap='jet', origin='lower')\n",
    "    plt.title(f'Ground Truth: {scd.KNOWN_COMMANDS[int(y)]}    Prediction:{scd.KNOWN_COMMANDS[pred]}')\n",
    "    \n",
    "visualize_file_prediction(testFiles[-2], evalSCq)"
   ]
  },
  {
   "cell_type": "markdown",
   "metadata": {},
   "source": [
    "What if the speech was more centered? Would the prediction change? Let see."
   ]
  },
  {
   "cell_type": "code",
   "execution_count": 21,
   "metadata": {},
   "outputs": [
    {
     "data": {
      "image/png": "[encoded data removed]",
      "text/plain": [
       "<Figure size 640x960 with 1 Axes>"
      ]
     },
     "metadata": {
      "needs_background": "light"
     },
     "output_type": "display_data"
    }
   ],
   "source": [
    "visualize_file_prediction(testFiles[-2], evalSCq, padLR=True)"
   ]
  },
  {
   "cell_type": "code",
   "execution_count": 23,
   "metadata": {},
   "outputs": [
    {
     "name": "stdout",
     "output_type": "stream",
     "text": [
      "\u001b[1;30;47m Ground Truth = 4 \tPrediction = 4   \tConfidence=99.95%\n",
      "\u001b[1;30;47m Ground Truth = 10 \tPrediction = 10   \tConfidence=99.91%\n",
      "\u001b[1;30;47m Ground Truth = 8 \tPrediction = 8   \tConfidence=100.00%\n",
      "\u001b[1;30;47m Ground Truth = 10 \tPrediction = 10   \tConfidence=83.48%\n",
      "\u001b[1;30;47m Ground Truth = 3 \tPrediction = 3   \tConfidence=99.73%\n",
      "\u001b[1;30;47m Ground Truth = 10 \tPrediction = 10   \tConfidence=99.49%\n",
      "\u001b[1;30;47m Ground Truth = 10 \tPrediction = 10   \tConfidence=99.83%\n",
      "\u001b[1;30;47m Ground Truth = 1 \tPrediction = 1   \tConfidence=98.30%\n",
      "\u001b[1;30;47m Ground Truth = 7 \tPrediction = 7   \tConfidence=99.97%\n",
      "\u001b[1;30;47m Ground Truth = 9 \tPrediction = 9   \tConfidence=100.00%\n",
      "\u001b[1;30;47m Ground Truth = 10 \tPrediction = 10   \tConfidence=99.73%\n",
      "\u001b[1;30;47m Ground Truth = 0 \tPrediction = 0   \tConfidence=100.00%\n",
      "\u001b[1;30;47m Ground Truth = 10 \tPrediction = 10   \tConfidence=99.26%\n",
      "\u001b[1;30;47m Ground Truth = 10 \tPrediction = 10   \tConfidence=99.59%\n",
      "\u001b[1;30;47m Ground Truth = 5 \tPrediction = 5   \tConfidence=99.99%\n",
      "\u001b[1;30;47m Ground Truth = 6 \tPrediction = 6   \tConfidence=99.69%\n",
      "\u001b[1;30;47m Ground Truth = 10 \tPrediction = 10   \tConfidence=97.21%\n",
      "\u001b[1;30;47m Ground Truth = 10 \tPrediction = 10   \tConfidence=99.59%\n",
      "\u001b[1;30;47m Ground Truth = 2 \tPrediction = 2   \tConfidence=98.81%\n",
      "\u001b[1;30;47m Ground Truth = 10 \tPrediction = 10   \tConfidence=56.80%\n"
     ]
    }
   ],
   "source": [
    "for file in testFiles:\n",
    "    (X,y) = scd.get_file_features(file, padLR=True)\n",
    "    (pred, conf)=evalSCq.predictClass(X)\n",
    "    if pred == y:\n",
    "        print(f'\\033[1;30;47m Ground Truth = {y} \\tPrediction = {pred}   \\tConfidence={conf * 100 :.2f}%')\n",
    "    else:\n",
    "        print(f'\\033[1;30;41m Ground Truth = {y} \\tPrediction = {pred}   \\tConfidence={conf * 100 :.2f}%')\n"
   ]
  },
  {
   "cell_type": "markdown",
   "metadata": {},
   "source": [
    "## Conclusion\n",
    "\n",
    "Quantizing to 8-bit parameters is a great thing to do for our pre-trained speech commands model. \n",
    "\n",
    "We also noticed the fragility of the model to where in the spectrogram the word is. This may not be an issue in practice, as the model may be run multiple times a second on overlapping data. Yet, it shows that there is more work to do on getting a more invariant representation. We see the need for more tools to perform sensitivity analysis to noise and perturbations like time shift. And the need to understand why the model is getting confused by using model interpretability libraries like [Captum](https://captum.ai). These will be topics for a future post. \n"
   ]
  }
 ],
 "metadata": {
  "kernelspec": {
   "display_name": "Python 3",
   "language": "python",
   "name": "python3"
  },
  "language_info": {
   "codemirror_mode": {
    "name": "ipython",
    "version": 3
   },
   "file_extension": ".py",
   "mimetype": "text/x-python",
   "name": "python",
   "nbconvert_exporter": "python",
   "pygments_lexer": "ipython3",
   "version": "3.6.10"
  }
 },
 "nbformat": 4,
 "nbformat_minor": 4
}
