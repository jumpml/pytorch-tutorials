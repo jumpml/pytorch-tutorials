{
 "cells": [
  {
   "cell_type": "markdown",
   "metadata": {},
   "source": [
    "# PyTorch MNIST Tutorial\n",
    "In this post we will get acquainted with the basics of training a machine learning model using PyTorch. ML model development can be subdivided into the following stages \n",
    "1. Data Setup        \n",
    "2. Model and Objective/Loss Specification     \n",
    "3. Model Training\n",
    "4. Performance Evaluation\n",
    "\n",
    "In this tutorial, our goal is to quickly train a CNN (convolutional neural network) model going through all the four stages. The idea here isn't necessarily to introduce CNN or ML, but it is to get used to doing things in PyTorch. We will use the [MNIST dataset](http://yann.lecun.com/exdb/mnist/), which is considered to be an easy problem. \n",
    "\n",
    "This notebook is available on github at this [link](https://github.com/jumpml/pytorch-tutorials/blob/master/Pytorch_MNIST.ipynb)"
   ]
  },
  {
   "cell_type": "code",
   "execution_count": 1,
   "metadata": {},
   "outputs": [],
   "source": [
    "# CUSTOMARY IMPORTS\n",
    "import torch\n",
    "import torchvision\n",
    "import matplotlib.pyplot as plt\n",
    "import numpy as np\n",
    "import torch.nn as nn\n",
    "import torch.nn.functional as F\n",
    "import torch.optim as optim\n",
    "\n",
    "%matplotlib inline"
   ]
  },
  {
   "cell_type": "markdown",
   "metadata": {},
   "source": [
    "## Data  Setup\n",
    "In PyTorch we have a few concepts that can help ease the data setup process  \n",
    "1. **Dataset**: each dataset (like MNIST) will have a class which implements \\__getitem__() which returns an example (tuple)\n",
    "2. **DataLoader**: takes a Dataset as input and outputs a generator or iterable object. One can use next() on a DataLoader object to get the next example from the dataset. The DataLoader can be setup to return a batch_size number of examples.\n",
    "3. **Transforms.Compose**: applies a list of transforms from left to right on each example(s) that is returned \n",
    "\n",
    "Transforms can be used to augment the dataset by applying transformations such as scaling, rotations, masking, etc. For MNIST, the torchvision package has already implemented a Dataset called MNIST, where it will download the data for us automatically, if not already downloaded. Since the MNIST data is split up into different files, we also need to specify whether we wish to setup a train set DataLoader or a test set DataLoader. \n",
    "\n",
    "Prior to data setup, let us also define some training hyperparameters. These are not parameters in the classical sense, but they do impact the solution that we end up at. Please read the comments for more details on what they do.\n"
   ]
  },
  {
   "cell_type": "code",
   "execution_count": 2,
   "metadata": {},
   "outputs": [],
   "source": [
    "# TRAINING HYPERPARAMETERS: \n",
    "n_epochs = 3           # How many passes through the training data  \n",
    "batch_size_train = 64  # Training batch size usually in [1,256]\n",
    "batch_size_test = 1000 # Test batch size (choose anything)\n",
    "learning_rate = 0.01   # Learning rate for optimizer like SGD usually in [0.001, 0.1]\n",
    "log_frequency = 100\n",
    "random_seed = 1        \n",
    "torch.manual_seed(random_seed)\n",
    "device = torch.device(\"cuda:0\" if torch.cuda.is_available() else \"cpu\")\n"
   ]
  },
  {
   "cell_type": "code",
   "execution_count": 3,
   "metadata": {},
   "outputs": [],
   "source": [
    "train_loader = torch.utils.data.DataLoader(\n",
    "  torchvision.datasets.MNIST('./files/', train=True, download=True,\n",
    "                             transform=torchvision.transforms.Compose([\n",
    "                               torchvision.transforms.ToTensor(),\n",
    "                               torchvision.transforms.Normalize(\n",
    "                                 (0.1307,), (0.3081,))\n",
    "                             ])),\n",
    "  batch_size=batch_size_train, shuffle=True)\n",
    "\n",
    "test_loader = torch.utils.data.DataLoader(\n",
    "  torchvision.datasets.MNIST('./files/', train=False, download=True,\n",
    "                             transform=torchvision.transforms.Compose([\n",
    "                               torchvision.transforms.ToTensor(),\n",
    "                               torchvision.transforms.Normalize(\n",
    "                                 (0.1307,), (0.3081,))\n",
    "                             ])),\n",
    "  batch_size=batch_size_test, shuffle=True)"
   ]
  },
  {
   "cell_type": "code",
   "execution_count": 4,
   "metadata": {},
   "outputs": [
    {
     "data": {
      "image/png": "[encoded data removed]",
      "text/plain": [
       "<matplotlib.figure.Figure at 0x7f872e5e8898>"
      ]
     },
     "metadata": {},
     "output_type": "display_data"
    }
   ],
   "source": [
    "# The enumerate() method adds a counter to an iterable and returns an enumerate object\n",
    "examples = enumerate(test_loader)\n",
    "batch_idx, (example_X, example_y) = next(examples)\n",
    "\n",
    "# VISUALIZE SOME EXAMPLES\n",
    "fig=plt.figure(figsize=(10, 8), dpi=60)\n",
    "for i in range(9):\n",
    "  plt.subplot(3,3,i+1)\n",
    "  plt.tight_layout()\n",
    "  plt.imshow(example_X[i][0], cmap='gray')\n",
    "  plt.title(\"Ground Truth: {}\".format(example_y[i]))\n",
    "  plt.xticks([])\n",
    "  plt.yticks([])"
   ]
  },
  {
   "cell_type": "markdown",
   "metadata": {},
   "source": [
    "## Model Specification\n",
    "All PyTorch models should inherit from the nn.Module (for automatic gradients and such). Building models in PyTorch is like Lego, we take some layers or operations like Conv2d, Linear, and then compose them in a function called forward (which is required to be defined). The forward function (also called prediction) takes the input and produces a output after processing through the model. The torch.nn.functional allows applying activation functions and dropout conveniently. We use the nn.module for layers that hold parameters and use the functional API for other operations like activations, softmax, etc. \n",
    "\n",
    "One of the challenges in model specification with CNNs and Linear or Fully-Connected layers is keeping track of the image sizes as it goes through the operations. It is important to understand that the tensor passed to the model (during training or prediction) is of dimension (BatchSize, NumChannels, H, W) and when we refer to image size we are talking about (H,W). It is common to refer to channels as filters or also kernels. \n",
    "\n",
    "The input or image sizes are non-trivial functions of parameters like kernel size, stride, dilation, padding change the size of the image. The easiest approach is to use the formula provided in the [Conv2d Documentation](https://pytorch.org/docs/master/generated/torch.nn.Conv2d.html). We will write a simple function to compute this, so that we don't need to spend time thinking about this. This formula also applies to the max_pool2d layers. \n",
    "\n",
    "Our model is going to be simple:   \n",
    "X (B,1,28,28)  \n",
    "--> Conv2D(1,32,5) --> MaxPool2D(2) --> ReLU  \n",
    "--> Conv2D(32,16,3)--> MaxPool2D(2) --> ReLU  \n",
    "--> Linear(100)    --> Dropout(0.2) --> ReLU  \n",
    "--> Linear(10)     --> LogSoftmax  \n",
    "\n",
    "\n",
    "where B is Batch Size, the arguments to Conv2D are input numChannels, output numChannels and kernel size.  \n",
    "\n",
    "\n"
   ]
  },
  {
   "cell_type": "code",
   "execution_count": 5,
   "metadata": {},
   "outputs": [],
   "source": [
    "def get_conv_size(in_dim, kernel_size, stride=1, padding=0, dilation=1):\n",
    "    return ( (in_dim + 2*padding - dilation * (kernel_size - 1) - 1) // stride  + 1)"
   ]
  },
  {
   "cell_type": "code",
   "execution_count": 6,
   "metadata": {
    "tags": []
   },
   "outputs": [
    {
     "name": "stdout",
     "output_type": "stream",
     "text": [
      "C1:24 MP1:12   C2:10 MP2:5    FC1_in:400\n"
     ]
    }
   ],
   "source": [
    "input_size = 28    # MNIST has 28 x 28 input images\n",
    "C1_kernel_size = 5 # Customary to use odd and square kernel/filter size fxf \n",
    "num_filters_conv1 = 32\n",
    "num_filters_conv2 = 16  \n",
    "C2_kernel_size = 3 # Customary to use odd and square kernel/filter size fxf \n",
    "mp2d_size = 2      # MaxPooling2d window size (= stride)\n",
    "fc1_out_size = 100\n",
    "fc2_out_size = 10\n",
    "\n",
    "C1 = get_conv_size(input_size, C1_kernel_size)                   # C1: size after conv1 \n",
    "MP1 = get_conv_size(C1, mp2d_size, stride = mp2d_size) # MP1: size after max_pool2d\n",
    "C2 = get_conv_size(MP1, C2_kernel_size)                          # C2: size after conv2 \n",
    "MP2 = get_conv_size(C2, mp2d_size, stride = mp2d_size) # MP2: size after max_pool2d\n",
    "fc1_in_size = MP2*MP2 * num_filters_conv2                        # pixels * num_filters\n",
    "\n",
    "print(f'C1:{C1} MP1:{MP1}   C2:{C2} MP2:{MP2}    FC1_in:{fc1_in_size}')"
   ]
  },
  {
   "cell_type": "code",
   "execution_count": 7,
   "metadata": {},
   "outputs": [],
   "source": [
    "class model(nn.Module):\n",
    "    def __init__(self):\n",
    "        super(model, self).__init__()\n",
    "        self.conv1 = nn.Conv2d(in_channels=1, out_channels=num_filters_conv1, kernel_size=C1_kernel_size)\n",
    "        self.conv2 = nn.Conv2d(num_filters_conv1, num_filters_conv2, C2_kernel_size)\n",
    "        self.fc1 = nn.Linear(fc1_in_size, fc1_out_size)\n",
    "        self.fc2 = nn.Linear(fc1_out_size, fc2_out_size)           # number of classes/digits = 10\n",
    "\n",
    "    def forward(self, x):\n",
    "        x = F.relu(F.max_pool2d(self.conv1(x), mp2d_size))\n",
    "        x = F.relu(F.max_pool2d(self.conv2(x), mp2d_size))\n",
    "        x = x.view(-1, fc1_in_size)    # reshape\n",
    "        x = F.relu(self.fc1(x))\n",
    "        x = F.dropout(x, training=self.training)  # Apply dropout only during training\n",
    "        x = self.fc2(x)\n",
    "        return F.log_softmax(x, dim=1)\n",
    "\n",
    "nnModel = model().to(device)       # Instantiate our model and move model to GPU if available"
   ]
  },
  {
   "cell_type": "markdown",
   "metadata": {},
   "source": [
    "It should be noted, we can view the model by printing the private attribute \\_modules as shown below."
   ]
  },
  {
   "cell_type": "code",
   "execution_count": 8,
   "metadata": {},
   "outputs": [
    {
     "name": "stdout",
     "output_type": "stream",
     "text": [
      "nnModel parameters:\n",
      "{} OrderedDict([('conv1', Conv2d(1, 32, kernel_size=(5, 5), stride=(1, 1))), ('conv2', Conv2d(32, 16, kernel_size=(3, 3), stride=(1, 1))), ('fc1', Linear(in_features=400, out_features=100, bias=True)), ('fc2', Linear(in_features=100, out_features=10, bias=True))])\n"
     ]
    }
   ],
   "source": [
    "print('nnModel parameters:\\n{}',nnModel._modules)"
   ]
  },
  {
   "cell_type": "markdown",
   "metadata": {},
   "source": [
    "## Objective or Loss Function\n",
    "In the model the final layer is a log-softmax function, in orderwords we get a vector of per-digit log probabilities or log-likelihoods. The reason we have a log-softmax is because it is more numerically stable than the regular softmax. Those exponentials do tend to blow up quite easily! So the output of the model is basically \n",
    "$$ \\hat{y} = \\log P(y | x) $$\n",
    "\n",
    "If we combine this with the nll_loss, which stands for negative log-likelihood loss which basically does the following operation  \n",
    "$$\n",
    "l(\\hat{y},y) = -\\hat{y}[y]\n",
    "$$\n",
    "\n",
    "where $y$ is the true class label in ${0,1,...,C-1}$. If the model predicted the correct digit with probability 1.0, then this loss would be 0.0. Otherwise it would be a positive number. By combining log-softmax and NLL loss, we get the Cross Entropy Loss. "
   ]
  },
  {
   "cell_type": "code",
   "execution_count": 9,
   "metadata": {},
   "outputs": [],
   "source": [
    "# Define objective function\n",
    "lossFn = F.nll_loss  #When we combine nll_loss and log_softmax we get a cross entropy loss"
   ]
  },
  {
   "cell_type": "markdown",
   "metadata": {},
   "source": [
    "## Model Optimization or Training \n",
    "The optimization process is pretty simple. The new parameters are the previous parameters with a step (proportional to learning rate $\\mu$) in the direction (negative gradient of loss function w.r.t parameters) that reduces the loss function. In terms of math for a single labeled example $y$ and model prediction $\\hat{y}$  \n",
    "$$ W_n = W_{n-1} - \\mu \\nabla_{W} l(\\hat{y},y) $$\n",
    "\n",
    "For a batch of examples, we simply replace the loss above with some reduction such as the mean loss over the batch. \n",
    "\n",
    "In PyTorch, we use the torch.optim module to construct an optimizer object, that will hold the current parameters and will update the parameters based on the computed gradients. To construct an Optimizer you have to give it an iterable containing the parameters to optimize accomplished by nnModel.parameters(). We can also specify optimization hyperparameters such as learning rate and momentum. \n",
    "\n",
    "All optimizers implement a step() method, that updates the parameters. At the beginning of each batch, we also need to zero out the accumulated gradients via calling zero_grad() function of the optimizer object."
   ]
  },
  {
   "cell_type": "code",
   "execution_count": 10,
   "metadata": {},
   "outputs": [],
   "source": [
    "# Define optimization\n",
    "optimizer = optim.SGD(nnModel.parameters(), lr=learning_rate, momentum=0.5)\n",
    "#optimizer = optim.Adam(nnModel.parameters(), lr=0.003)"
   ]
  },
  {
   "cell_type": "markdown",
   "metadata": {},
   "source": [
    "## Mechanics of Training\n",
    "Basically has the following steps which we repeat until all batches of training data are consumed\n",
    "1. Get a batch of inputs (X) and corresponding labels (y), move to device\n",
    "2. Initialize gradients\n",
    "3. Calculate loss function on current batch of inputs and labels\n",
    "4. Calculate gradients by calling backward() on the loss function output\n",
    "5. Update parameters by calling optimizer.step()\n",
    "\n",
    "\n",
    "### Some Details\n",
    "The base class nn.module (so every module) has a bool property called **training**, which can be set to True for all modules in the model by calling the model.train() function. The flag is set to False if we call model.eval(). The idea is that modules like dropout and batchnorm can behave differently in train mode vs evaluation or prediction mode. \n",
    "\n"
   ]
  },
  {
   "cell_type": "code",
   "execution_count": 11,
   "metadata": {},
   "outputs": [],
   "source": [
    "train_losses = []\n",
    "TrainLen = len(train_loader.dataset)\n",
    "def train(model, lossFn, optimizer, train_loader):\n",
    "  model.train()\n",
    "  for batch_idx, (X_train, y_train) in enumerate(train_loader):\n",
    "    # Move to device\n",
    "    X_train, y_train = X_train.to(device), y_train.to(device)\n",
    "    # Initialize gradients\n",
    "    optimizer.zero_grad()\n",
    "    # Predict on current batch of data\n",
    "    y_hat = model(X_train)\n",
    "    # Calculate Average Loss\n",
    "    loss = lossFn(y_hat, y_train)\n",
    "    # Calculate Gradients\n",
    "    loss.backward()\n",
    "    # Update model parameters using SGC\n",
    "    optimizer.step()\n",
    "    if batch_idx % log_frequency == 0:\n",
    "      print(f'Train  {batch_idx * len(X_train)}/{TrainLen} Loss:{loss.item()}\\n')\n",
    "      train_losses.append(loss.item())\n"
   ]
  },
  {
   "cell_type": "markdown",
   "metadata": {},
   "source": [
    "## Performance Evaluation\n",
    "How well does our trained model work? We want to evaluate the model predictions on a test set that the model has never seen. This is to see if the model generalizes and will work well in practice. In our evaluation we will track the NLL loss function over training epoch and also keep an eye on the percentage of correct predictions, called accuracy. Ideally if the test (and train) data is representive of real-world use scenarios, this should tell us how often the model is correct in the real world."
   ]
  },
  {
   "cell_type": "code",
   "execution_count": 12,
   "metadata": {},
   "outputs": [],
   "source": [
    "test_losses = []\n",
    "def test(model, lossFn, test_loader):\n",
    "  model.eval()\n",
    "  test_loss = 0\n",
    "  correct = 0\n",
    "  with torch.no_grad():\n",
    "    for X_test, y_test in test_loader:\n",
    "      X_test, y_test = X_test.to(device), y_test.to(device)\n",
    "      y_hat = model(X_test)\n",
    "      test_loss += lossFn(y_hat, y_test).item()\n",
    "      pred = y_hat.data.max(1, keepdim=True)[1]\n",
    "      correct += pred.eq(y_test.data.view_as(pred)).sum()\n",
    "  test_loss /= len(test_loader.dataset)\n",
    "  test_losses.append(test_loss)\n",
    "  accuracy = 100. * correct / len(test_loader.dataset)\n",
    "  print(f'\\nTest set: Avg. loss: {test_loss:.4f}, Accuracy: {accuracy} %\\n')\n",
    "  return(accuracy)"
   ]
  },
  {
   "cell_type": "markdown",
   "metadata": {},
   "source": [
    "### Finally, we train!"
   ]
  },
  {
   "cell_type": "code",
   "execution_count": 13,
   "metadata": {
    "tags": []
   },
   "outputs": [
    {
     "name": "stdout",
     "output_type": "stream",
     "text": [
      "\n",
      "Test set: Avg. loss: 0.0023, Accuracy: 8.960000038146973 %\n",
      "\n",
      "Train  0/60000 Loss:2.3166229724884033\n",
      "\n",
      "Train  6400/60000 Loss:1.1380994319915771\n",
      "\n",
      "Train  12800/60000 Loss:0.6184839606285095\n",
      "\n",
      "Train  19200/60000 Loss:0.2915685772895813\n",
      "\n",
      "Train  25600/60000 Loss:0.39035072922706604\n",
      "\n",
      "Train  32000/60000 Loss:0.4388900697231293\n",
      "\n",
      "Train  38400/60000 Loss:0.3836956024169922\n",
      "\n",
      "Train  44800/60000 Loss:0.2571248412132263\n",
      "\n",
      "Train  51200/60000 Loss:0.1858700066804886\n",
      "\n",
      "Train  57600/60000 Loss:0.17807245254516602\n",
      "\n",
      "\n",
      "Test set: Avg. loss: 0.0001, Accuracy: 96.36000061035156 %\n",
      "\n",
      "Train  0/60000 Loss:0.2646735608577728\n",
      "\n",
      "Train  6400/60000 Loss:0.25332000851631165\n",
      "\n",
      "Train  12800/60000 Loss:0.21694515645503998\n",
      "\n",
      "Train  19200/60000 Loss:0.1485084444284439\n",
      "\n",
      "Train  25600/60000 Loss:0.13463640213012695\n",
      "\n",
      "Train  32000/60000 Loss:0.08159495145082474\n",
      "\n",
      "Train  38400/60000 Loss:0.07399110496044159\n",
      "\n",
      "Train  44800/60000 Loss:0.2134912610054016\n",
      "\n",
      "Train  51200/60000 Loss:0.1273864358663559\n",
      "\n",
      "Train  57600/60000 Loss:0.328370600938797\n",
      "\n",
      "\n",
      "Test set: Avg. loss: 0.0001, Accuracy: 97.45999908447266 %\n",
      "\n",
      "Train  0/60000 Loss:0.3802719712257385\n",
      "\n",
      "Train  6400/60000 Loss:0.08781841397285461\n",
      "\n",
      "Train  12800/60000 Loss:0.2607800364494324\n",
      "\n",
      "Train  19200/60000 Loss:0.03979566693305969\n",
      "\n",
      "Train  25600/60000 Loss:0.11034535616636276\n",
      "\n",
      "Train  32000/60000 Loss:0.21964626014232635\n",
      "\n",
      "Train  38400/60000 Loss:0.21965527534484863\n",
      "\n",
      "Train  44800/60000 Loss:0.20218832790851593\n",
      "\n",
      "Train  51200/60000 Loss:0.12613120675086975\n",
      "\n",
      "Train  57600/60000 Loss:0.05183415114879608\n",
      "\n",
      "\n",
      "Test set: Avg. loss: 0.0001, Accuracy: 97.62000274658203 %\n",
      "\n"
     ]
    }
   ],
   "source": [
    "test_accuracy = []\n",
    "test_accuracy.append(test(nnModel, lossFn, test_loader))\n",
    "for epoch in range(1, n_epochs + 1):\n",
    "  train(nnModel, lossFn, optimizer, train_loader)\n",
    "  test_accuracy.append(test(nnModel, lossFn, test_loader))"
   ]
  },
  {
   "cell_type": "markdown",
   "metadata": {},
   "source": [
    "## Train and Accuracy Plots"
   ]
  },
  {
   "cell_type": "code",
   "execution_count": 15,
   "metadata": {},
   "outputs": [
    {
     "data": {
      "text/plain": [
       "Text(0,0.5,'negative log likelihood loss')"
      ]
     },
     "execution_count": 15,
     "metadata": {},
     "output_type": "execute_result"
    },
    {
     "data": {
      "image/png": "[encoded data removed]",
      "text/plain": [
       "<matplotlib.figure.Figure at 0x7f873229feb8>"
      ]
     },
     "metadata": {},
     "output_type": "display_data"
    }
   ],
   "source": [
    "fig=plt.figure(figsize=(10, 8), dpi=60)\n",
    "x = range(0,log_frequency*len(train_losses)*batch_size_train,log_frequency*batch_size_train)\n",
    "plt.plot(x, train_losses, color='blue')\n",
    "x = range(0, TrainLen*len(test_losses), TrainLen)\n",
    "plt.plot(x,test_losses,'r*')\n",
    "plt.plot(x,np.array(test_accuracy)/100.0,'g*-')\n",
    "plt.legend(['Train Loss', 'Test Loss', 'Accuracy Probability'], loc='upper right')\n",
    "plt.xlabel('number of training examples seen')\n",
    "plt.ylabel('negative log likelihood loss')"
   ]
  },
  {
   "cell_type": "markdown",
   "metadata": {},
   "source": [
    "## Sample Test Predictions"
   ]
  },
  {
   "cell_type": "code",
   "execution_count": 16,
   "metadata": {},
   "outputs": [
    {
     "data": {
      "image/png": "[encoded data removed]",
      "text/plain": [
       "<matplotlib.figure.Figure at 0x7f8732428438>"
      ]
     },
     "metadata": {},
     "output_type": "display_data"
    }
   ],
   "source": [
    "with torch.no_grad():\n",
    "  output = nnModel(example_X.to(device))\n",
    "\n",
    "fig=plt.figure(figsize=(10, 8), dpi=60)\n",
    "for i in range(16):\n",
    "  plt.subplot(4,4,i+1)\n",
    "  plt.tight_layout()\n",
    "  plt.imshow(example_X[i][0], cmap='gray')\n",
    "  plt.title(\"Prediction: {}\".format(\n",
    "    output.data.max(1, keepdim=True)[1][i].item()))\n",
    "  plt.xticks([])\n",
    "  plt.yticks([])"
   ]
  }
 ],
 "metadata": {
  "kernelspec": {
   "display_name": "Python 3",
   "language": "python",
   "name": "python3"
  },
  "language_info": {
   "codemirror_mode": {
    "name": "ipython",
    "version": 3
   },
   "file_extension": ".py",
   "mimetype": "text/x-python",
   "name": "python",
   "nbconvert_exporter": "python",
   "pygments_lexer": "ipython3",
   "version": "3.6.4"
  }
 },
 "nbformat": 4,
 "nbformat_minor": 2
}
