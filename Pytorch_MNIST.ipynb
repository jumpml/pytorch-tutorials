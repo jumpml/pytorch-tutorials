{
 "cells": [
  {
   "cell_type": "markdown",
   "metadata": {},
   "source": [
    "# PyTorch MNIST Tutorial\n",
    "In this post we will get acquainted with the basics of training a machine learning model using PyTorch. ML model development can be subdivided into the following stages \n",
    "1. Data Setup        \n",
    "2. Model and Objective/Loss Specification     \n",
    "3. Model Training\n",
    "4. Performance Evaluation\n",
    "\n",
    "In this tutorial, our goal is to quickly train a CNN (convolutional neural network) model going through all the four stages. The idea here isn't necessarily to introduce CNN or ML, but it is to get used to doing things in PyTorch. We will use the [MNIST dataset](http://yann.lecun.com/exdb/mnist/), which is considered to be an easy problem. "
   ]
  },
  {
   "cell_type": "code",
   "execution_count": 1,
   "metadata": {},
   "outputs": [],
   "source": [
    "# CUSTOMARY IMPORTS\n",
    "import torch\n",
    "import torchvision\n",
    "import matplotlib.pyplot as plt\n",
    "import numpy as np\n",
    "import torch.nn as nn\n",
    "import torch.nn.functional as F\n",
    "import torch.optim as optim\n",
    "\n",
    "%matplotlib inline"
   ]
  },
  {
   "cell_type": "markdown",
   "metadata": {},
   "source": [
    "## Data  Setup\n",
    "In PyTorch we have a few concepts that can help ease the data setup process  \n",
    "1. **Dataset**: each dataset (like MNIST) will have a class which implements \\__getitem__() which returns an example (tuple)\n",
    "2. **DataLoader**: takes a Dataset as input and outputs a generator or iterable object. One can use next() on a DataLoader object to get the next example from the dataset. The DataLoader can be setup to return a batch_size number of examples.\n",
    "3. **Transforms.Compose**: applies a list of transforms from left to right on each example(s) that is returned \n",
    "\n",
    "Transforms can be used to augment the dataset by applying transformations such as scaling, rotations, masking, etc. For MNIST, the torchvision package has already implemented a Dataset called MNIST, where it will download the data for us automatically, if not already downloaded. Since the MNIST data is split up into different files, we also need to specify whether we wish to setup a train set DataLoader or a test set DataLoader. \n",
    "\n",
    "Prior to data setup, let us also define some training hyperparameters. These are not parameters in the classical sense, but they do impact the solution that we end up at. Please read the comments for more details on what they do.\n"
   ]
  },
  {
   "cell_type": "code",
   "execution_count": 2,
   "metadata": {},
   "outputs": [],
   "source": [
    "# TRAINING HYPERPARAMETERS: \n",
    "n_epochs = 3           # How many passes through the training data  \n",
    "batch_size_train = 64  # Training batch size usually in [1,256]\n",
    "batch_size_test = 1000 # Test batch size (choose anything)\n",
    "learning_rate = 0.01   # Learning rate for optimizer like SGD usually in [0.001, 0.1]\n",
    "log_frequency = 100\n",
    "random_seed = 1        \n",
    "torch.manual_seed(random_seed)\n",
    "device = torch.device(\"cuda:0\" if torch.cuda.is_available() else \"cpu\")\n"
   ]
  },
  {
   "cell_type": "code",
   "execution_count": 3,
   "metadata": {},
   "outputs": [],
   "source": [
    "train_loader = torch.utils.data.DataLoader(\n",
    "  torchvision.datasets.MNIST('./files/', train=True, download=True,\n",
    "                             transform=torchvision.transforms.Compose([\n",
    "                               torchvision.transforms.ToTensor(),\n",
    "                               torchvision.transforms.Normalize(\n",
    "                                 (0.1307,), (0.3081,))\n",
    "                             ])),\n",
    "  batch_size=batch_size_train, shuffle=True)\n",
    "\n",
    "test_loader = torch.utils.data.DataLoader(\n",
    "  torchvision.datasets.MNIST('./files/', train=False, download=True,\n",
    "                             transform=torchvision.transforms.Compose([\n",
    "                               torchvision.transforms.ToTensor(),\n",
    "                               torchvision.transforms.Normalize(\n",
    "                                 (0.1307,), (0.3081,))\n",
    "                             ])),\n",
    "  batch_size=batch_size_test, shuffle=True)"
   ]
  },
  {
   "cell_type": "code",
   "execution_count": 4,
   "metadata": {},
   "outputs": [
    {
     "data": {
      "image/png": "[encoded data removed]",
      "text/plain": [
       "<Figure size 600x480 with 9 Axes>"
      ]
     },
     "metadata": {},
     "output_type": "display_data"
    }
   ],
   "source": [
    "# The enumerate() method adds a counter to an iterable and returns an enumerate object\n",
    "examples = enumerate(test_loader)\n",
    "batch_idx, (example_X, example_y) = next(examples)\n",
    "\n",
    "# VISUALIZE SOME EXAMPLES\n",
    "fig=plt.figure(figsize=(10, 8), dpi=60)\n",
    "for i in range(9):\n",
    "  plt.subplot(3,3,i+1)\n",
    "  plt.tight_layout()\n",
    "  plt.imshow(example_X[i][0], cmap='gray')\n",
    "  plt.title(\"Ground Truth: {}\".format(example_y[i]))\n",
    "  plt.xticks([])\n",
    "  plt.yticks([])"
   ]
  },
  {
   "cell_type": "markdown",
   "metadata": {},
   "source": [
    "## Model Specification\n",
    "All PyTorch models should inherit from the nn.Module (for automatic gradients and such). Building models in PyTorch is like Lego, we take some layers or operations like Conv2d, Linear, and then compose them in a function called forward (which is required to be defined). The forward function (also called prediction) takes the input and produces a output after processing through the model. The torch.nn.functional allows applying activation functions and dropout conveniently. We use the nn.module for layers that hold parameters and use the functional API for other operations like activations, softmax, etc. \n",
    "\n",
    "One of the challenges in model specification with CNNs and Linear or Fully-Connected layers is keeping track of the image sizes as it goes through the operations. It is important to understand that the tensor passed to the model (during training or prediction) is of dimension (BatchSize, NumChannels, H, W) and when we refer to image size we are talking about (H,W). It is common to refer to channels as filters or also kernels. \n",
    "\n",
    "The input or image sizes are non-trivial functions of parameters like kernel size, stride, dilation, padding change the size of the image. The easiest approach is to use the formula provided in the [Conv2d Documentation](https://pytorch.org/docs/master/generated/torch.nn.Conv2d.html). We will write a simple function to compute this, so that we don't need to spend time thinking about this. This formula also applies to the max_pool2d layers. \n",
    "\n",
    "Our model is going to be simple:   \n",
    "X (B,1,28,28)  \n",
    "--> Conv2D(1,32,5) --> MaxPool2D(2) --> ReLU  \n",
    "--> Conv2D(32,16,3)--> MaxPool2D(2) --> ReLU  \n",
    "--> Linear(100)    --> Dropout(0.2) --> ReLU  \n",
    "--> Linear(10)     --> LogSoftmax  \n",
    "\n",
    "\n",
    "where B is Batch Size, the arguments to Conv2D are input numChannels, output numChannels and kernel size.  \n",
    "\n",
    "\n"
   ]
  },
  {
   "cell_type": "code",
   "execution_count": 5,
   "metadata": {},
   "outputs": [],
   "source": [
    "def get_conv_size(in_dim, kernel_size, stride=1, padding=0, dilation=1):\n",
    "    return ( (in_dim + 2*padding - dilation * (kernel_size - 1) - 1) // stride  + 1)"
   ]
  },
  {
   "cell_type": "code",
   "execution_count": 6,
   "metadata": {
    "tags": []
   },
   "outputs": [
    {
     "name": "stdout",
     "output_type": "stream",
     "text": [
      "C1:24 MP1:12   C2:10 MP2:5    FC1_in:400\n"
     ]
    }
   ],
   "source": [
    "input_size = 28    # MNIST has 28 x 28 input images\n",
    "C1_kernel_size = 5 # Customary to use odd and square kernel/filter size fxf \n",
    "num_filters_conv1 = 32\n",
    "num_filters_conv2 = 16  \n",
    "C2_kernel_size = 3 # Customary to use odd and square kernel/filter size fxf \n",
    "mp2d_size = 2      # MaxPooling2d window size (= stride)\n",
    "fc1_out_size = 100\n",
    "fc2_out_size = 10\n",
    "\n",
    "C1 = get_conv_size(input_size, C1_kernel_size)                   # C1: size after conv1 \n",
    "MP1 = get_conv_size(C1, mp2d_size, stride = mp2d_size) # MP1: size after max_pool2d\n",
    "C2 = get_conv_size(MP1, C2_kernel_size)                          # C2: size after conv2 \n",
    "MP2 = get_conv_size(C2, mp2d_size, stride = mp2d_size) # MP2: size after max_pool2d\n",
    "fc1_in_size = MP2*MP2 * num_filters_conv2                        # pixels * num_filters\n",
    "\n",
    "print(f'C1:{C1} MP1:{MP1}   C2:{C2} MP2:{MP2}    FC1_in:{fc1_in_size}')"
   ]
  },
  {
   "cell_type": "code",
   "execution_count": 7,
   "metadata": {},
   "outputs": [],
   "source": [
    "class model(nn.Module):\n",
    "    def __init__(self):\n",
    "        super(model, self).__init__()\n",
    "        self.conv1 = nn.Conv2d(in_channels=1, out_channels=num_filters_conv1, kernel_size=C1_kernel_size)\n",
    "        self.conv2 = nn.Conv2d(num_filters_conv1, num_filters_conv2, C2_kernel_size)\n",
    "        self.fc1 = nn.Linear(fc1_in_size, fc1_out_size)\n",
    "        self.fc2 = nn.Linear(fc1_out_size, fc2_out_size)           # number of classes/digits = 10\n",
    "\n",
    "    def forward(self, x):\n",
    "        x = F.relu(F.max_pool2d(self.conv1(x), mp2d_size))\n",
    "        x = F.relu(F.max_pool2d(self.conv2(x), mp2d_size))\n",
    "        x = x.view(-1, fc1_in_size)    # reshape\n",
    "        x = F.relu(self.fc1(x))\n",
    "        x = F.dropout(x)  # Apply dropout only during training\n",
    "        x = self.fc2(x)\n",
    "        return F.log_softmax(x, dim=1)"
   ]
  },
  {
   "cell_type": "code",
   "execution_count": 26,
   "metadata": {},
   "outputs": [
    {
     "data": {
      "text/plain": [
       "model(\n",
       "  (conv1): Conv2d(1, 32, kernel_size=(5, 5), stride=(1, 1))\n",
       "  (conv2): Conv2d(32, 16, kernel_size=(3, 3), stride=(1, 1))\n",
       "  (fc1): Linear(in_features=400, out_features=100, bias=True)\n",
       "  (fc2): Linear(in_features=100, out_features=10, bias=True)\n",
       ")"
      ]
     },
     "execution_count": 26,
     "metadata": {},
     "output_type": "execute_result"
    }
   ],
   "source": [
    "# Instantiate our model and specify loss function.\n",
    "# When we combine nll_loss and log_softmax we get a cross entropy loss\n",
    "nnModel = model()\n",
    "lossFn = F.nll_loss\n",
    "\n",
    "# Define optimization\n",
    "optimizer = optim.SGD(nnModel.parameters(), lr=learning_rate, momentum=0.5)\n",
    "#optimizer = optim.Adam(nnModel.parameters(), lr=0.003)\n",
    "\n",
    "nnModel.to(device)"
   ]
  },
  {
   "cell_type": "code",
   "execution_count": 27,
   "metadata": {},
   "outputs": [],
   "source": [
    "train_losses = []\n",
    "test_losses = []\n",
    "test_accuracy = []\n",
    "TrainLen = len(train_loader.dataset)"
   ]
  },
  {
   "cell_type": "code",
   "execution_count": 28,
   "metadata": {},
   "outputs": [],
   "source": [
    "def train(epoch):\n",
    "  nnModel.train()\n",
    "  for batch_idx, (X_train, y_train) in enumerate(train_loader):\n",
    "    # Move to device\n",
    "    X_train, y_train = X_train.to(device), y_train.to(device)\n",
    "    # Initialize gradients\n",
    "    optimizer.zero_grad()\n",
    "    # Predict on current batch of data\n",
    "    y_hat = nnModel(X_train)\n",
    "    # Calculate Average Loss\n",
    "    loss = lossFn(y_hat, y_train)\n",
    "    # Calculate Gradients\n",
    "    loss.backward()\n",
    "    # Update model parameters using SGC\n",
    "    optimizer.step()\n",
    "    if batch_idx % log_frequency == 0:\n",
    "      print(f'Train Epoch: {epoch} {batch_idx * len(X_train)}/{TrainLen} Loss:{loss.item()}\\n')\n",
    "      train_losses.append(loss.item())\n",
    "      \n",
    "      \n",
    " "
   ]
  },
  {
   "cell_type": "code",
   "execution_count": 29,
   "metadata": {},
   "outputs": [],
   "source": [
    "def test():\n",
    "  nnModel.eval()\n",
    "  test_loss = 0\n",
    "  correct = 0\n",
    "  with torch.no_grad():\n",
    "    for X_test, y_test in test_loader:\n",
    "      X_test, y_test = X_test.to(device), y_test.to(device)\n",
    "      y_hat = nnModel(X_test)\n",
    "      test_loss += lossFn(y_hat, y_test).item()\n",
    "      pred = y_hat.data.max(1, keepdim=True)[1]\n",
    "      correct += pred.eq(y_test.data.view_as(pred)).sum()\n",
    "  test_loss /= len(test_loader.dataset)\n",
    "  test_losses.append(test_loss)\n",
    "  accuracy = 100. * correct / len(test_loader.dataset)\n",
    "  print(f'\\nTest set: Avg. loss: {test_loss:.4f}, Accuracy: {accuracy} %\\n')\n",
    "  return(accuracy)"
   ]
  },
  {
   "cell_type": "code",
   "execution_count": 30,
   "metadata": {
    "tags": []
   },
   "outputs": [
    {
     "name": "stdout",
     "output_type": "stream",
     "text": [
      "\n",
      "Test set: Avg. loss: 0.0023, Accuracy: 8.859999656677246 %\n",
      "\n",
      "Train Epoch: 1 0/60000 Loss:2.3057243824005127\n",
      "\n",
      "Train Epoch: 1 6400/60000 Loss:1.1642037630081177\n",
      "\n",
      "Train Epoch: 1 12800/60000 Loss:0.49353185296058655\n",
      "\n",
      "Train Epoch: 1 19200/60000 Loss:0.5935971140861511\n",
      "\n",
      "Train Epoch: 1 25600/60000 Loss:0.359576940536499\n",
      "\n",
      "Train Epoch: 1 32000/60000 Loss:0.453757643699646\n",
      "\n",
      "Train Epoch: 1 38400/60000 Loss:0.3063638210296631\n",
      "\n",
      "Train Epoch: 1 44800/60000 Loss:0.3180357813835144\n",
      "\n",
      "Train Epoch: 1 51200/60000 Loss:0.24858295917510986\n",
      "\n",
      "Train Epoch: 1 57600/60000 Loss:0.21152184903621674\n",
      "\n",
      "\n",
      "Test set: Avg. loss: 0.0002, Accuracy: 93.44999694824219 %\n",
      "\n",
      "Train Epoch: 2 0/60000 Loss:0.5599241852760315\n",
      "\n",
      "Train Epoch: 2 6400/60000 Loss:0.2692301273345947\n",
      "\n",
      "Train Epoch: 2 12800/60000 Loss:0.4145662784576416\n",
      "\n",
      "Train Epoch: 2 19200/60000 Loss:0.30198949575424194\n",
      "\n",
      "Train Epoch: 2 25600/60000 Loss:0.146678626537323\n",
      "\n",
      "Train Epoch: 2 32000/60000 Loss:0.24326419830322266\n",
      "\n",
      "Train Epoch: 2 38400/60000 Loss:0.2738964557647705\n",
      "\n",
      "Train Epoch: 2 44800/60000 Loss:0.15883874893188477\n",
      "\n",
      "Train Epoch: 2 51200/60000 Loss:0.11805892735719681\n",
      "\n",
      "Train Epoch: 2 57600/60000 Loss:0.08396653831005096\n",
      "\n",
      "\n",
      "Test set: Avg. loss: 0.0001, Accuracy: 95.48999786376953 %\n",
      "\n",
      "Train Epoch: 3 0/60000 Loss:0.16938048601150513\n",
      "\n",
      "Train Epoch: 3 6400/60000 Loss:0.1264750063419342\n",
      "\n",
      "Train Epoch: 3 12800/60000 Loss:0.09591894596815109\n",
      "\n",
      "Train Epoch: 3 19200/60000 Loss:0.12127664685249329\n",
      "\n",
      "Train Epoch: 3 25600/60000 Loss:0.07895562797784805\n",
      "\n",
      "Train Epoch: 3 32000/60000 Loss:0.16709774732589722\n",
      "\n",
      "Train Epoch: 3 38400/60000 Loss:0.09805037081241608\n",
      "\n",
      "Train Epoch: 3 44800/60000 Loss:0.1537969708442688\n",
      "\n",
      "Train Epoch: 3 51200/60000 Loss:0.11770787835121155\n",
      "\n",
      "Train Epoch: 3 57600/60000 Loss:0.08659812062978745\n",
      "\n",
      "\n",
      "Test set: Avg. loss: 0.0001, Accuracy: 96.23999786376953 %\n",
      "\n"
     ]
    }
   ],
   "source": [
    "test_accuracy.append(test())\n",
    "for epoch in range(1, n_epochs + 1):\n",
    "  train(epoch)\n",
    "  test_accuracy.append(test())"
   ]
  },
  {
   "cell_type": "code",
   "execution_count": 31,
   "metadata": {},
   "outputs": [
    {
     "data": {
      "text/plain": [
       "Text(0, 0.5, 'negative log likelihood loss')"
      ]
     },
     "execution_count": 31,
     "metadata": {},
     "output_type": "execute_result"
    },
    {
     "data": {
      "image/png": "[encoded data removed]",
      "text/plain": [
       "<Figure size 600x480 with 1 Axes>"
      ]
     },
     "metadata": {
      "needs_background": "light"
     },
     "output_type": "display_data"
    }
   ],
   "source": [
    "fig=plt.figure(figsize=(10, 8), dpi=60)\n",
    "x = range(0,log_frequency*len(train_losses)*batch_size_train,log_frequency*batch_size_train)\n",
    "plt.plot(x, train_losses, color='blue')\n",
    "x = range(0, TrainLen*len(test_losses), TrainLen)\n",
    "plt.plot(x,test_losses,'r*')\n",
    "plt.plot(x,np.array(test_accuracy)/100.0,'g*-')\n",
    "plt.legend(['Train Loss', 'Test Loss', 'Accuracy Probability'], loc='upper right')\n",
    "plt.xlabel('number of training examples seen')\n",
    "plt.ylabel('negative log likelihood loss')"
   ]
  },
  {
   "cell_type": "code",
   "execution_count": 32,
   "metadata": {},
   "outputs": [],
   "source": [
    "with torch.no_grad():\n",
    "  output = nnModel(example_X.to(device))"
   ]
  },
  {
   "cell_type": "code",
   "execution_count": 33,
   "metadata": {},
   "outputs": [
    {
     "data": {
      "image/png": "[encoded data removed]",
      "text/plain": [
       "<Figure size 600x480 with 16 Axes>"
      ]
     },
     "metadata": {},
     "output_type": "display_data"
    }
   ],
   "source": [
    "fig=plt.figure(figsize=(10, 8), dpi=60)\n",
    "for i in range(16):\n",
    "  plt.subplot(4,4,i+1)\n",
    "  plt.tight_layout()\n",
    "  plt.imshow(example_X[i][0], cmap='gray')\n",
    "  plt.title(\"Prediction: {}\".format(\n",
    "    output.data.max(1, keepdim=True)[1][i].item()))\n",
    "  plt.xticks([])\n",
    "  plt.yticks([])"
   ]
  },
  {
   "cell_type": "code",
   "execution_count": null,
   "metadata": {},
   "outputs": [],
   "source": []
  }
 ],
 "metadata": {
  "kernelspec": {
   "display_name": "Python 3",
   "language": "python",
   "name": "python3"
  },
  "language_info": {
   "codemirror_mode": {
    "name": "ipython",
    "version": 3
   },
   "file_extension": ".py",
   "mimetype": "text/x-python",
   "name": "python",
   "nbconvert_exporter": "python",
   "pygments_lexer": "ipython3",
   "version": "3.7.6"
  }
 },
 "nbformat": 4,
 "nbformat_minor": 2
}
